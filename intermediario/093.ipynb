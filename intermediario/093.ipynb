{
 "cells": [
  {
   "cell_type": "markdown",
   "metadata": {},
   "source": [
    "# Try, Except, Else e finally"
   ]
  },
  {
   "cell_type": "code",
   "execution_count": 32,
   "metadata": {},
   "outputs": [
    {
     "name": "stdout",
     "output_type": "stream",
     "text": [
      "Nome de variavel errado\n",
      "MSG:  name 'bf' is not defined\n",
      "nome:  NameError\n",
      "continuar\n"
     ]
    }
   ],
   "source": [
    "\n",
    "try: #try trata um erro qualquer\n",
    "    a = 18\n",
    "    b = 0\n",
    "    c = a / bf   \n",
    "except ZeroDivisionError:\n",
    "    print('dividiu por zero')\n",
    "except NameError as error:\n",
    "    print('Nome de variavel errado')\n",
    "    print('MSG: ', error)\n",
    "    print('nome: ',error.__class__.__name__)\n",
    "except Exception:\n",
    "    print('erro desconhecido')\n",
    "\n",
    "print('continuar')"
   ]
  }
 ],
 "metadata": {
  "kernelspec": {
   "display_name": "base",
   "language": "python",
   "name": "python3"
  },
  "language_info": {
   "codemirror_mode": {
    "name": "ipython",
    "version": 3
   },
   "file_extension": ".py",
   "mimetype": "text/x-python",
   "name": "python",
   "nbconvert_exporter": "python",
   "pygments_lexer": "ipython3",
   "version": "3.11.5"
  }
 },
 "nbformat": 4,
 "nbformat_minor": 2
}
